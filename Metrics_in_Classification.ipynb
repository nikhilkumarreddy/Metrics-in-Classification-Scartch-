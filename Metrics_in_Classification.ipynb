{
  "nbformat": 4,
  "nbformat_minor": 0,
  "metadata": {
    "colab": {
      "name": "Metrics in Classification.ipynb",
      "provenance": [],
      "authorship_tag": "ABX9TyNjXhpA5VYqlF3jbXmchFsk",
      "include_colab_link": true
    },
    "kernelspec": {
      "name": "python3",
      "display_name": "Python 3"
    }
  },
  "cells": [
    {
      "cell_type": "markdown",
      "metadata": {
        "id": "view-in-github",
        "colab_type": "text"
      },
      "source": [
        "<a href=\"https://colab.research.google.com/github/nikhilkumarreddy/Metrics-in-Classification-Scartch-/blob/main/Metrics_in_Classification.ipynb\" target=\"_parent\"><img src=\"https://colab.research.google.com/assets/colab-badge.svg\" alt=\"Open In Colab\"/></a>"
      ]
    },
    {
      "cell_type": "markdown",
      "metadata": {
        "id": "PQhdmEqQKqRa"
      },
      "source": [
        "# Confusion Metrics from Scratch"
      ]
    },
    {
      "cell_type": "code",
      "metadata": {
        "id": "2c9jKlzlsDx7",
        "outputId": "557d794b-9a0d-41c9-f394-6be71f4d00bc",
        "colab": {
          "base_uri": "https://localhost:8080/",
          "height": 34
        }
      },
      "source": [
        "# confusion metrics\n",
        "\n",
        "actual = [ 'man', 'man', 'women', 'man', 'women', 'women', 'women', 'man', 'man' , 'women']\n",
        "predicted = [ 'women', 'man', 'women', 'man', 'man', 'women', 'women', 'man', 'women', 'women']\n",
        "\n",
        "def confusion_matrix(actual , predicted):\n",
        "  unique = sorted(set(actual))\n",
        "  matrix = [[0 for _ in unique] for _ in unique]\n",
        "  imap   = {key: i for i, key in enumerate(unique)}\n",
        "\n",
        " \n",
        "  for p, a in zip(predicted, actual):\n",
        "    matrix[imap[p]][imap[a]] += 1\n",
        "    \n",
        "  return matrix , imap , unique\n",
        "\n",
        "\n",
        "matrix , imap , unique = confusion_matrix(actual , predicted)\n",
        "print(matrix)"
      ],
      "execution_count": 39,
      "outputs": [
        {
          "output_type": "stream",
          "text": [
            "[[3, 1], [2, 4]]\n"
          ],
          "name": "stdout"
        }
      ]
    },
    {
      "cell_type": "code",
      "metadata": {
        "id": "SSK7cAyMsUov",
        "outputId": "68d6b7c9-9740-4e93-877a-159617a09f9c",
        "colab": {
          "base_uri": "https://localhost:8080/",
          "height": 51
        }
      },
      "source": [
        "sigma = sum([sum(matrix[imap[i]]) for i in unique])\n",
        "\n",
        "for i in unique:\n",
        "  loc = matrix[imap[i]][imap[i]]\n",
        "  row = sum(matrix[imap[i]][:])\n",
        "  col = sum([j[imap[i]] for j in matrix])\n",
        "\n",
        "  tp = loc \n",
        "\n",
        "  fp = row - loc  #type 1 error\n",
        "\n",
        "  fn = col - loc   #type 2 error\n",
        "\n",
        "  tn = sigma - row - col + loc\n",
        "\n",
        "  sensitivity = tp / (tp + fn)  #recall #false positive rate \n",
        "\n",
        "  specificity = tn / (tn + fp)  #false negative rate \n",
        "\n",
        "  precision = tp / (tp + fp)   #positive predicted value \n",
        "\n",
        "  accuracy = (tp + tn) / (tp + tn + fp + fn)\n",
        "\n",
        "  f1score = (2 * tp) / ((2 * tp) + (fp + fn))\n",
        "\n",
        "  print('for -> ' ,i, '<- sensitivity or recall = {0:.1f} '.format(sensitivity),\\\n",
        "        'specificity ={0:.0f} '.format(specificity), \\\n",
        "        'precision = {0:.1f} '.format(precision),\\\n",
        "        'accuracy = {0:.1f} '.format(accuracy) ,\\\n",
        "        'f1score = {0:.1f} '.format(f1score )\\\n",
        "        )\n",
        "\n",
        "\n",
        "\n"
      ],
      "execution_count": 43,
      "outputs": [
        {
          "output_type": "stream",
          "text": [
            "for ->  man <- sensitivity or recall = 0.6  specificity =1  precision = 0.8  accuracy = 0.7  f1score = 0.7 \n",
            "for ->  women <- sensitivity or recall = 0.8  specificity =1  precision = 0.7  accuracy = 0.7  f1score = 0.7 \n"
          ],
          "name": "stdout"
        }
      ]
    },
    {
      "cell_type": "code",
      "metadata": {
        "id": "lad3g2YdH89r"
      },
      "source": [
        "\n",
        "\n",
        "#when false_positve is important\n",
        "'''\n",
        "spam dector and stock market where false_positive are important\n",
        "\n",
        "Reason being, its more problematic when model says your email is a spam but in reality its not.\n",
        "So you will miss out on an imp one. Also, stock market crash, where the model predicted that the market is not gonna crash,\n",
        "investor invests in loads of money but it actually crashes and then the investor looses all of the money invested.\n",
        "\n",
        "'''\n",
        "\n",
        "#when false_negative is important\n",
        "\n",
        "'''\n",
        "where False negative is important are healthcare and risk compliance/sanction models.\n",
        "When model says the person doesn't have cancer,\n",
        "but in reality the person has cancer. So the person will miss out on imp medications\n",
        "'''\n",
        "\n"
      ],
      "execution_count": null,
      "outputs": []
    },
    {
      "cell_type": "code",
      "metadata": {
        "id": "IR0ILShCKZcx",
        "outputId": "08e822b7-bf14-4731-cd4f-d167425fc1e8",
        "colab": {
          "base_uri": "https://localhost:8080/",
          "height": 34
        }
      },
      "source": [
        "print(\"sd\")"
      ],
      "execution_count": 44,
      "outputs": [
        {
          "output_type": "stream",
          "text": [
            "sd\n"
          ],
          "name": "stdout"
        }
      ]
    },
    {
      "cell_type": "code",
      "metadata": {
        "id": "sP2z3uR0RngS"
      },
      "source": [
        ""
      ],
      "execution_count": null,
      "outputs": []
    }
  ]
}