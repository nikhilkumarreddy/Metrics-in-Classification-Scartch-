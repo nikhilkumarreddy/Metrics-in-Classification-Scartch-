{
  "nbformat": 4,
  "nbformat_minor": 0,
  "metadata": {
    "colab": {
      "name": "Metrics in Classification.ipynb",
      "provenance": [],
      "authorship_tag": "ABX9TyPDl7VSEwv/T46Ts3BoYPZS",
      "include_colab_link": true
    },
    "kernelspec": {
      "name": "python3",
      "display_name": "Python 3"
    }
  },
  "cells": [
    {
      "cell_type": "markdown",
      "metadata": {
        "id": "view-in-github",
        "colab_type": "text"
      },
      "source": [
        "<a href=\"https://colab.research.google.com/github/nikhilkumarreddy/Metrics-in-Classification-Scartch-/blob/main/Metrics_in_Classification.ipynb\" target=\"_parent\"><img src=\"https://colab.research.google.com/assets/colab-badge.svg\" alt=\"Open In Colab\"/></a>"
      ]
    },
    {
      "cell_type": "markdown",
      "metadata": {
        "id": "PQhdmEqQKqRa"
      },
      "source": [
        "# Metrics in Classification from Scratch\n",
        "\n",
        "\n",
        "\n"
      ]
    },
    {
      "cell_type": "code",
      "metadata": {
        "id": "2c9jKlzlsDx7",
        "outputId": "92441d44-5263-4707-be41-c6260688934e",
        "colab": {
          "base_uri": "https://localhost:8080/",
          "height": 34
        }
      },
      "source": [
        "# confusion metrics\n",
        "\n",
        "actual = [ 'man', 'man', 'women', 'man', 'women', 'women', 'women', 'man', 'man' , 'women']\n",
        "predicted = [ 'women', 'man', 'women', 'man', 'man', 'women', 'women', 'man', 'women', 'women']\n",
        "\n",
        "def confusion_matrix1(actual , predicted):\n",
        "  unique = sorted(set(actual))\n",
        "  matrix = [[0 for _ in unique] for _ in unique]\n",
        "  imap   = {key: i for i, key in enumerate(unique)}\n",
        "\n",
        " \n",
        "  for p, a in zip(predicted, actual):\n",
        "    matrix[imap[p]][imap[a]] += 1\n",
        "    \n",
        "  return matrix , imap , unique\n",
        "\n",
        "\n",
        "matrix , imap , unique = confusion_matrix1(actual , predicted)\n",
        "print(matrix)"
      ],
      "execution_count": 1,
      "outputs": [
        {
          "output_type": "stream",
          "text": [
            "[[3, 1], [2, 4]]\n"
          ],
          "name": "stdout"
        }
      ]
    },
    {
      "cell_type": "code",
      "metadata": {
        "id": "SSK7cAyMsUov",
        "outputId": "51e0d662-44fe-4ee6-a6b0-67e40b94f163",
        "colab": {
          "base_uri": "https://localhost:8080/",
          "height": 51
        }
      },
      "source": [
        "sigma = sum([sum(matrix[imap[i]]) for i in unique])\n",
        "\n",
        "for i in unique:\n",
        "  loc = matrix[imap[i]][imap[i]]\n",
        "  row = sum(matrix[imap[i]][:])\n",
        "  col = sum([j[imap[i]] for j in matrix])\n",
        "\n",
        "  tp = loc \n",
        "\n",
        "  fp = row - loc  #type 1 error\n",
        "\n",
        "  fn = col - loc   #type 2 error\n",
        "\n",
        "  tn = sigma - row - col + loc\n",
        "\n",
        "  sensitivity = tp / (tp + fn)  #recall #false positive rate \n",
        "\n",
        "  specificity = tn / (tn + fp)  #false negative rate \n",
        "\n",
        "  precision = tp / (tp + fp)   #positive predicted value \n",
        "\n",
        "  accuracy = (tp + tn) / (tp + tn + fp + fn)\n",
        "\n",
        "  f1score = (2 * tp) / ((2 * tp) + (fp + fn))\n",
        "\n",
        "  print('for -> ' ,i, '<- sensitivity or recall = {0:.1f} '.format(sensitivity),\\\n",
        "        'specificity ={0:.0f} '.format(specificity), \\\n",
        "        'precision = {0:.1f} '.format(precision),\\\n",
        "        'accuracy = {0:.1f} '.format(accuracy) ,\\\n",
        "        'f1score = {0:.1f} '.format(f1score )\\\n",
        "        )\n",
        "\n",
        "\n",
        "\n"
      ],
      "execution_count": 2,
      "outputs": [
        {
          "output_type": "stream",
          "text": [
            "for ->  man <- sensitivity or recall = 0.6  specificity =1  precision = 0.8  accuracy = 0.7  f1score = 0.7 \n",
            "for ->  women <- sensitivity or recall = 0.8  specificity =1  precision = 0.7  accuracy = 0.7  f1score = 0.7 \n"
          ],
          "name": "stdout"
        }
      ]
    },
    {
      "cell_type": "markdown",
      "metadata": {
        "id": "918t87kyIjAh"
      },
      "source": [
        "#Classfication Metrics from sklearn "
      ]
    },
    {
      "cell_type": "code",
      "metadata": {
        "id": "IR0ILShCKZcx"
      },
      "source": [
        "\n",
        "from sklearn.metrics import confusion_matrix\n",
        "from sklearn.metrics import f1_score\n",
        "from sklearn.metrics import average_precision_score\n",
        "from sklearn.metrics import recall_score\n",
        "from sklearn.metrics import accuracy_score\n",
        "from sklearn.metrics import classification_report\n"
      ],
      "execution_count": 3,
      "outputs": []
    },
    {
      "cell_type": "code",
      "metadata": {
        "id": "sP2z3uR0RngS",
        "outputId": "1b8a2327-a6f1-4fdc-8d2b-4139e2993c46",
        "colab": {
          "base_uri": "https://localhost:8080/",
          "height": 102
        }
      },
      "source": [
        "actual = [ 'man', 'man', 'women', 'man', 'women', 'women', 'women', 'man', 'man' , 'women']\n",
        "predicted = [ 'women', 'man', 'women', 'man', 'man', 'women', 'women', 'man', 'women', 'women']\n",
        "\n",
        "print(confusion_matrix(actual , predicted))\n",
        "print(f1_score(actual , predicted , average = 'micro'))\n",
        "#print(average_precision_score(actual, predicted))\n",
        "print(recall_score(actual , predicted , average= 'micro'))\n",
        "print(accuracy_score(actual , predicted , normalize = False))"
      ],
      "execution_count": 4,
      "outputs": [
        {
          "output_type": "stream",
          "text": [
            "[[3 2]\n",
            " [1 4]]\n",
            "0.7\n",
            "0.7\n",
            "7\n"
          ],
          "name": "stdout"
        }
      ]
    },
    {
      "cell_type": "code",
      "metadata": {
        "id": "V7bcdaRFNB7Y",
        "outputId": "6226488a-79e9-43f8-8078-29c31d47cbc1",
        "colab": {
          "base_uri": "https://localhost:8080/",
          "height": 170
        }
      },
      "source": [
        "target_names = ['class 0 ' , 'class 1 ']\n",
        "print(classification_report(actual, predicted, target_names=target_names))\n"
      ],
      "execution_count": 5,
      "outputs": [
        {
          "output_type": "stream",
          "text": [
            "              precision    recall  f1-score   support\n",
            "\n",
            "    class 0        0.75      0.60      0.67         5\n",
            "    class 1        0.67      0.80      0.73         5\n",
            "\n",
            "    accuracy                           0.70        10\n",
            "   macro avg       0.71      0.70      0.70        10\n",
            "weighted avg       0.71      0.70      0.70        10\n",
            "\n"
          ],
          "name": "stdout"
        }
      ]
    },
    {
      "cell_type": "markdown",
      "metadata": {
        "id": "lzzoZYF5PYsn"
      },
      "source": [
        "#when false_positve is important\n",
        "'''\n",
        "spam dector and stock market where false_positive are important\n",
        "\n",
        "Reason being, its more problematic when model says your email is a spam but in reality its not.\n",
        "So you will miss out on an imp one. Also, stock market crash, where the model predicted that the market is not gonna crash,\n",
        "investor invests in loads of money but it actually crashes and then the investor looses all of the money invested.\n",
        "\n",
        "'''\n",
        "\n",
        "#when false_negative is important\n",
        "\n",
        "'''\n",
        "where False negative is important are healthcare and risk compliance/sanction models.\n",
        "When model says the person doesn't have cancer,\n",
        "but in reality the person has cancer. So the person will miss out on imp medications\n",
        "'''\n",
        "\n",
        "https://developers.google.com/machine-learning/crash-course/classification/roc-and-auc"
      ]
    }
  ]
}